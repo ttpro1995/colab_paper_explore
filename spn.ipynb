{
  "nbformat": 4,
  "nbformat_minor": 0,
  "metadata": {
    "colab": {
      "name": "spn.ipynb",
      "version": "0.3.2",
      "provenance": [],
      "collapsed_sections": [],
      "include_colab_link": true
    },
    "kernelspec": {
      "name": "python3",
      "display_name": "Python 3"
    }
  },
  "cells": [
    {
      "cell_type": "markdown",
      "metadata": {
        "id": "view-in-github",
        "colab_type": "text"
      },
      "source": [
        "<a href=\"https://colab.research.google.com/github/ttpro1995/colab_paper_explore/blob/master/spn.ipynb\" target=\"_parent\"><img src=\"https://colab.research.google.com/assets/colab-badge.svg\" alt=\"Open In Colab\"/></a>"
      ]
    },
    {
      "cell_type": "code",
      "metadata": {
        "id": "3SqNbf2ER_co",
        "colab_type": "code",
        "colab": {
          "base_uri": "https://localhost:8080/",
          "height": 54
        },
        "outputId": "fc032664-1f10-48f3-af7b-d3cce186285f"
      },
      "source": [
        "import tensorflow as tf\n",
        "from tensorflow.keras import layers\n",
        "from tensorflow.keras.layers import Conv2D, MaxPool2D\n",
        "from tensorflow.keras.models import Model\n",
        "from tensorflow.keras.layers import Input, Dense, concatenate\n",
        "print(tf.VERSION)\n",
        "print(tf.keras.__version__)\n",
        "import numpy as np"
      ],
      "execution_count": 16,
      "outputs": [
        {
          "output_type": "stream",
          "text": [
            "1.13.1\n",
            "2.2.4-tf\n"
          ],
          "name": "stdout"
        }
      ]
    },
    {
      "cell_type": "code",
      "metadata": {
        "id": "vAvtpIgvSHb7",
        "colab_type": "code",
        "colab": {}
      },
      "source": [
        "input_image = np.random.rand(1, 720, 720, 3)  # 720x720 image with 3 channel"
      ],
      "execution_count": 0,
      "outputs": []
    },
    {
      "cell_type": "code",
      "metadata": {
        "id": "5QfeZkXYT7i9",
        "colab_type": "code",
        "colab": {}
      },
      "source": [
        "# Scale Pyramid Network for Crowd Counting\n",
        "# Xinya Chen, Yanrui Bin, Nong Sang, Changxin Gao"
      ],
      "execution_count": 0,
      "outputs": []
    },
    {
      "cell_type": "code",
      "metadata": {
        "id": "hk_iXRbfSJNf",
        "colab_type": "code",
        "colab": {}
      },
      "source": [
        ""
      ],
      "execution_count": 0,
      "outputs": []
    },
    {
      "cell_type": "code",
      "metadata": {
        "id": "-bFO_Dw9S4Ur",
        "colab_type": "code",
        "colab": {}
      },
      "source": [
        "### first part of SPN before SPM \n",
        "SPN_1 = tf.keras.Sequential()\n",
        "# 2 x cr(64,3)\n",
        "SPN_1.add(Conv2D(64, kernel_size=3, activation='relu', padding='same'))\n",
        "SPN_1.add(Conv2D(64, kernel_size=3, activation='relu', padding='same'))\n",
        "# m\n",
        "SPN_1.add(MaxPool2D(pool_size=(2, 2)))\n",
        "# 2 x CR(128,3) \n",
        "SPN_1.add(Conv2D(128, kernel_size=3, activation='relu', padding='same'))\n",
        "SPN_1.add(Conv2D(128, kernel_size=3, activation='relu', padding='same'))\n",
        "# m\n",
        "SPN_1.add(MaxPool2D(pool_size=(2, 2)))\n",
        "# 3 x CR(256,3)\n",
        "SPN_1.add(Conv2D(256, kernel_size=3, activation='relu', padding='same'))\n",
        "SPN_1.add(Conv2D(256, kernel_size=3, activation='relu', padding='same'))\n",
        "SPN_1.add(Conv2D(256, kernel_size=3, activation='relu', padding='same'))\n",
        "# m\n",
        "SPN_1.add(MaxPool2D(pool_size=(2, 2)))\n",
        "# 3 x CR(512,3) \n",
        "SPN_1.add(Conv2D(512, kernel_size=3, activation='relu', padding='same'))\n",
        "SPN_1.add(Conv2D(512, kernel_size=3, activation='relu', padding='same'))\n",
        "SPN_1.add(Conv2D(512, kernel_size=3, activation='relu', padding='same'))"
      ],
      "execution_count": 0,
      "outputs": []
    },
    {
      "cell_type": "code",
      "metadata": {
        "id": "dtHohSrcUWLZ",
        "colab_type": "code",
        "colab": {
          "base_uri": "https://localhost:8080/",
          "height": 35
        },
        "outputId": "1fe45467-9d2e-4783-c555-9d075a96723b"
      },
      "source": [
        "out_1 = SPN_1.predict(input_image)\n",
        "out_1.shape"
      ],
      "execution_count": 7,
      "outputs": [
        {
          "output_type": "execute_result",
          "data": {
            "text/plain": [
              "(1, 90, 90, 512)"
            ]
          },
          "metadata": {
            "tags": []
          },
          "execution_count": 7
        }
      ]
    },
    {
      "cell_type": "code",
      "metadata": {
        "id": "Dp42u3PXUbLc",
        "colab_type": "code",
        "colab": {}
      },
      "source": [
        "spm_input = Input([None, None, 512])\n",
        "# conv 3 - n - 2 with n = 512 \n",
        "conv_3_n_2 = Conv2D(512, kernel_size=3, activation='relu', padding='same', dilation_rate=2)(spm_input)\n",
        "# conv 3 - n - 4\n",
        "conv_3_n_4 = Conv2D(512, kernel_size=3, activation='relu', padding='same', dilation_rate=4)(spm_input)\n",
        "# conv 3 - n - 8\n",
        "conv_3_n_8 = Conv2D(512, kernel_size=3, activation='relu', padding='same', dilation_rate=8)(spm_input)\n",
        "# conv 3 - n - 12\n",
        "conv_3_n_12 = Conv2D(512, kernel_size=3, activation='relu', padding='same', dilation_rate=12)(spm_input)\n",
        "concat_x = concatenate([conv_3_n_2, conv_3_n_4, conv_3_n_8, conv_3_n_12],  axis=3)\n",
        "SPM =  Model(spm_input, concat_x)"
      ],
      "execution_count": 0,
      "outputs": []
    },
    {
      "cell_type": "code",
      "metadata": {
        "id": "7UcFWWTMaujG",
        "colab_type": "code",
        "colab": {
          "base_uri": "https://localhost:8080/",
          "height": 35
        },
        "outputId": "bac10782-47ae-469a-8b94-61084ee66aec"
      },
      "source": [
        "out_1.shape"
      ],
      "execution_count": 26,
      "outputs": [
        {
          "output_type": "execute_result",
          "data": {
            "text/plain": [
              "(1, 90, 90, 512)"
            ]
          },
          "metadata": {
            "tags": []
          },
          "execution_count": 26
        }
      ]
    },
    {
      "cell_type": "code",
      "metadata": {
        "id": "eBG_3Y85YHak",
        "colab_type": "code",
        "colab": {
          "base_uri": "https://localhost:8080/",
          "height": 35
        },
        "outputId": "1837a839-0f98-4e1a-b838-6e903cd75a1b"
      },
      "source": [
        "out_2 = SPM.predict(out_1)\n",
        "out_2.shape"
      ],
      "execution_count": 27,
      "outputs": [
        {
          "output_type": "execute_result",
          "data": {
            "text/plain": [
              "(1, 90, 90, 2048)"
            ]
          },
          "metadata": {
            "tags": []
          },
          "execution_count": 27
        }
      ]
    },
    {
      "cell_type": "code",
      "metadata": {
        "id": "v9ZvnqoNalFf",
        "colab_type": "code",
        "colab": {}
      },
      "source": [
        "### full SPN network \n",
        "\n",
        "SPN = tf.keras.Sequential()\n",
        "# 2 x cr(64,3)\n",
        "SPN.add(Conv2D(64, kernel_size=3, activation='relu', padding='same'))\n",
        "SPN.add(Conv2D(64, kernel_size=3, activation='relu', padding='same'))\n",
        "# m\n",
        "SPN.add(MaxPool2D(pool_size=(2, 2)))\n",
        "# 2 x CR(128,3) \n",
        "SPN.add(Conv2D(128, kernel_size=3, activation='relu', padding='same'))\n",
        "SPN.add(Conv2D(128, kernel_size=3, activation='relu', padding='same'))\n",
        "# m\n",
        "SPN.add(MaxPool2D(pool_size=(2, 2)))\n",
        "# 3 x CR(256,3)\n",
        "SPN.add(Conv2D(256, kernel_size=3, activation='relu', padding='same'))\n",
        "SPN.add(Conv2D(256, kernel_size=3, activation='relu', padding='same'))\n",
        "SPN.add(Conv2D(256, kernel_size=3, activation='relu', padding='same'))\n",
        "# m\n",
        "SPN.add(MaxPool2D(pool_size=(2, 2)))\n",
        "# 3 x CR(512,3) \n",
        "SPN.add(Conv2D(512, kernel_size=3, activation='relu', padding='same'))\n",
        "SPN.add(Conv2D(512, kernel_size=3, activation='relu', padding='same'))\n",
        "SPN.add(Conv2D(512, kernel_size=3, activation='relu', padding='same'))\n",
        "## \n",
        "# TODO: SPM\n",
        "spm_input = Input([None, None, 512])\n",
        "# conv 3 - n - 2 with n = 512 \n",
        "conv_3_n_2 = Conv2D(512, kernel_size=3, activation='relu', padding='same', dilation_rate=2)(spm_input)\n",
        "# conv 3 - n - 4\n",
        "conv_3_n_4 = Conv2D(512, kernel_size=3, activation='relu', padding='same', dilation_rate=4)(spm_input)\n",
        "# conv 3 - n - 8\n",
        "conv_3_n_8 = Conv2D(512, kernel_size=3, activation='relu', padding='same', dilation_rate=8)(spm_input)\n",
        "# conv 3 - n - 12\n",
        "conv_3_n_12 = Conv2D(512, kernel_size=3, activation='relu', padding='same', dilation_rate=12)(spm_input)\n",
        "concat_x = concatenate([conv_3_n_2, conv_3_n_4, conv_3_n_8, conv_3_n_12],  axis=3)\n",
        "SPM =  Model(spm_input, concat_x)\n",
        "SPN.add(SPM)\n",
        "# 3 x CR(512, 3)\n",
        "SPN.add(Conv2D(512, kernel_size=3, activation='relu', padding='same'))\n",
        "SPN.add(Conv2D(512, kernel_size=3, activation='relu', padding='same'))\n",
        "SPN.add(Conv2D(512, kernel_size=3, activation='relu', padding='same'))\n",
        "\n",
        "# 1x CR(256,3) \n",
        "SPN.add(Conv2D(256, kernel_size=3, activation='relu', padding='same'))\n",
        "\n",
        "# 1 x CR(1,1)\n",
        "SPN.add(Conv2D(1, kernel_size=1, activation='relu', padding='same'))"
      ],
      "execution_count": 0,
      "outputs": []
    },
    {
      "cell_type": "code",
      "metadata": {
        "id": "QAvhgwjVfSm6",
        "colab_type": "code",
        "colab": {
          "base_uri": "https://localhost:8080/",
          "height": 35
        },
        "outputId": "f08e9f85-a2b1-467d-cd39-9ae4527f4146"
      },
      "source": [
        "out_full_spn = SPN.predict(input_image)\n",
        "out_full_spn.shape"
      ],
      "execution_count": 29,
      "outputs": [
        {
          "output_type": "execute_result",
          "data": {
            "text/plain": [
              "(1, 90, 90, 1)"
            ]
          },
          "metadata": {
            "tags": []
          },
          "execution_count": 29
        }
      ]
    },
    {
      "cell_type": "code",
      "metadata": {
        "id": "GMQe-O73faoC",
        "colab_type": "code",
        "colab": {
          "base_uri": "https://localhost:8080/",
          "height": 35
        },
        "outputId": "4b2ffcf5-e5e3-4b9a-a4f1-3430f8a0a0e6"
      },
      "source": [
        "720/90"
      ],
      "execution_count": 30,
      "outputs": [
        {
          "output_type": "execute_result",
          "data": {
            "text/plain": [
              "8.0"
            ]
          },
          "metadata": {
            "tags": []
          },
          "execution_count": 30
        }
      ]
    },
    {
      "cell_type": "code",
      "metadata": {
        "id": "SJlfg248fk8N",
        "colab_type": "code",
        "colab": {}
      },
      "source": [
        ""
      ],
      "execution_count": 0,
      "outputs": []
    }
  ]
}