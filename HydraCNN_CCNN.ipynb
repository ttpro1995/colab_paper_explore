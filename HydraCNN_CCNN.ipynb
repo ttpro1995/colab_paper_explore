{
  "nbformat": 4,
  "nbformat_minor": 0,
  "metadata": {
    "colab": {
      "name": "HydraCNN-CCNN",
      "version": "0.3.2",
      "provenance": [],
      "include_colab_link": true
    },
    "kernelspec": {
      "name": "python3",
      "display_name": "Python 3"
    }
  },
  "cells": [
    {
      "cell_type": "markdown",
      "metadata": {
        "id": "view-in-github",
        "colab_type": "text"
      },
      "source": [
        "<a href=\"https://colab.research.google.com/github/ttpro1995/colab_paper_explore/blob/master/HydraCNN_CCNN.ipynb\" target=\"_parent\"><img src=\"https://colab.research.google.com/assets/colab-badge.svg\" alt=\"Open In Colab\"/></a>"
      ]
    },
    {
      "cell_type": "code",
      "metadata": {
        "id": "8G53qfuL8uIv",
        "colab_type": "code",
        "outputId": "42c85f88-ac64-425f-8f37-f740ffd82f40",
        "colab": {
          "base_uri": "https://localhost:8080/",
          "height": 54
        }
      },
      "source": [
        "import tensorflow as tf\n",
        "from tensorflow.keras import layers\n",
        "from tensorflow.keras.layers import Conv2D, MaxPool2D\n",
        "\n",
        "print(tf.VERSION)\n",
        "print(tf.keras.__version__)\n",
        "import numpy as np"
      ],
      "execution_count": 0,
      "outputs": [
        {
          "output_type": "stream",
          "text": [
            "1.13.1\n",
            "2.2.4-tf\n"
          ],
          "name": "stdout"
        }
      ]
    },
    {
      "cell_type": "code",
      "metadata": {
        "id": "PMXlr6O589rN",
        "colab_type": "code",
        "colab": {}
      },
      "source": [
        "input_image = np.random.rand(1, 720, 720, 3)"
      ],
      "execution_count": 0,
      "outputs": []
    },
    {
      "cell_type": "code",
      "metadata": {
        "id": "vcXUdlX49Do_",
        "colab_type": "code",
        "colab": {}
      },
      "source": [
        "#CCNN (7x7x32)-(7x7x32)- pooling(2x2) - (5x5x64) - pooling(2x2) - (1x1x1000) - (1x1x400)\n"
      ],
      "execution_count": 0,
      "outputs": []
    },
    {
      "cell_type": "code",
      "metadata": {
        "id": "Luo5SgcF9LsX",
        "colab_type": "code",
        "colab": {}
      },
      "source": [
        "CCNN = tf.keras.Sequential()\n",
        "CCNN.add(Conv2D(32, kernel_size=7, activation='relu', padding='same'))\n",
        "CCNN.add(Conv2D(32, kernel_size=7, activation='relu', padding='same'))\n",
        "CCNN.add(MaxPool2D(pool_size=(2, 2)))\n",
        "CCNN.add(Conv2D(64, kernel_size=5, activation='relu', padding='same'))\n",
        "CCNN.add(Conv2D(64, kernel_size=5, activation='relu', padding='same'))\n",
        "CCNN.add(MaxPool2D(pool_size=(2, 2)))\n",
        "CCNN.add(Conv2D(1000, kernel_size=1, activation='relu', padding='same'))\n",
        "CCNN.add(Conv2D(400, kernel_size=1, activation='relu', padding='same'))"
      ],
      "execution_count": 0,
      "outputs": []
    },
    {
      "cell_type": "code",
      "metadata": {
        "id": "wbZ-7Ud9-Zay",
        "colab_type": "code",
        "outputId": "8482a8f8-9e7d-4ed4-8e4d-afb15e0965ab",
        "colab": {
          "base_uri": "https://localhost:8080/",
          "height": 92
        }
      },
      "source": [
        "output_image = CCNN.predict(input_image)"
      ],
      "execution_count": 0,
      "outputs": [
        {
          "output_type": "stream",
          "text": [
            "WARNING:tensorflow:From /usr/local/lib/python3.6/dist-packages/tensorflow/python/ops/resource_variable_ops.py:435: colocate_with (from tensorflow.python.framework.ops) is deprecated and will be removed in a future version.\n",
            "Instructions for updating:\n",
            "Colocations handled automatically by placer.\n"
          ],
          "name": "stdout"
        }
      ]
    },
    {
      "cell_type": "code",
      "metadata": {
        "id": "zHJ4WRbL-lSY",
        "colab_type": "code",
        "outputId": "267b1391-b417-442e-9ee4-ef0209cf2ff1",
        "colab": {
          "base_uri": "https://localhost:8080/",
          "height": 35
        }
      },
      "source": [
        "output_image.shape"
      ],
      "execution_count": 0,
      "outputs": [
        {
          "output_type": "execute_result",
          "data": {
            "text/plain": [
              "(1, 180, 180, 400)"
            ]
          },
          "metadata": {
            "tags": []
          },
          "execution_count": 6
        }
      ]
    },
    {
      "cell_type": "code",
      "metadata": {
        "id": "xNeOGG8p-n7P",
        "colab_type": "code",
        "outputId": "12807148-67ec-4230-ae44-03b49cc21bba",
        "colab": {
          "base_uri": "https://localhost:8080/",
          "height": 35
        }
      },
      "source": [
        "720/180"
      ],
      "execution_count": 0,
      "outputs": [
        {
          "output_type": "execute_result",
          "data": {
            "text/plain": [
              "4.0"
            ]
          },
          "metadata": {
            "tags": []
          },
          "execution_count": 7
        }
      ]
    },
    {
      "cell_type": "code",
      "metadata": {
        "id": "Y1f8C6Mw-r5f",
        "colab_type": "code",
        "outputId": "9308130d-4d16-4da1-f086-ac0fca8c7bbb",
        "colab": {
          "base_uri": "https://localhost:8080/",
          "height": 35
        }
      },
      "source": [
        "# \n",
        "\"\"\"\n",
        "Max pooling\n",
        "\n",
        "W2=(W1-f)/s +1\n",
        "\n",
        "H2=(H1-f)/s+1\n",
        "\"\"\""
      ],
      "execution_count": 0,
      "outputs": [
        {
          "output_type": "execute_result",
          "data": {
            "text/plain": [
              "'\\nMax pooling\\n\\nW2=(W1-f)/s +1\\n\\nH2=(H1-f)/s+1\\n'"
            ]
          },
          "metadata": {
            "tags": []
          },
          "execution_count": 8
        }
      ]
    },
    {
      "cell_type": "code",
      "metadata": {
        "id": "rQBEAOgP_zhs",
        "colab_type": "code",
        "colab": {}
      },
      "source": [
        ""
      ],
      "execution_count": 0,
      "outputs": []
    }
  ]
}